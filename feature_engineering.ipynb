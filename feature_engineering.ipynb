{
 "cells": [
  {
   "cell_type": "markdown",
   "metadata": {},
   "source": [
    "## Data Cleaning + Feature Engineering"
   ]
  },
  {
   "cell_type": "code",
   "execution_count": 7,
   "metadata": {},
   "outputs": [],
   "source": [
    "import pandas as pd\n",
    "from sklearn.preprocessing import MinMaxScaler, StandardScaler"
   ]
  },
  {
   "cell_type": "code",
   "execution_count": 8,
   "metadata": {},
   "outputs": [
    {
     "name": "stdout",
     "output_type": "stream",
     "text": [
      "(263419, 152)\n"
     ]
    }
   ],
   "source": [
    "df = pd.read_csv('cleaned_train.csv')\n",
    "print(df.shape)"
   ]
  },
  {
   "cell_type": "markdown",
   "metadata": {},
   "source": [
    "#### Cleaning"
   ]
  },
  {
   "cell_type": "code",
   "execution_count": 9,
   "metadata": {},
   "outputs": [
    {
     "name": "stdout",
     "output_type": "stream",
     "text": [
      "Index(['NAME_CONTRACT_TYPE', 'CODE_GENDER', 'FLAG_OWN_CAR', 'FLAG_OWN_REALTY',\n",
      "       'NAME_TYPE_SUITE', 'NAME_INCOME_TYPE', 'NAME_EDUCATION_TYPE',\n",
      "       'NAME_FAMILY_STATUS', 'NAME_HOUSING_TYPE', 'WEEKDAY_APPR_PROCESS_START',\n",
      "       'ORGANIZATION_TYPE'],\n",
      "      dtype='object')\n"
     ]
    }
   ],
   "source": [
    "df = pd.read_csv('application_train_clean.csv')\n",
    "\n",
    "# drop unnecessary columns\n",
    "df = df.drop(['Unnamed: 0','SK_ID_CURR'],axis=1)\n",
    "print(df.columns[df.dtypes == object])\n",
    "\n",
    "# one hot encoding\n",
    "df = pd.get_dummies(df, columns = df.select_dtypes(include=['object']).columns, drop_first=True, dtype=int)"
   ]
  },
  {
   "cell_type": "markdown",
   "metadata": {},
   "source": [
    "#### Feature Engineering"
   ]
  },
  {
   "cell_type": "code",
   "execution_count": 10,
   "metadata": {},
   "outputs": [],
   "source": [
    "df['DEBT_INC_RATIO'] = df['AMT_CREDIT'] / df['AMT_INCOME_TOTAL']\n",
    "df['INCOME_PER_PERSON'] = df['AMT_INCOME_TOTAL'] / df['CNT_FAM_MEMBERS']\n",
    "df['ANNUITY_INCOME_RATIO'] = df['AMT_ANNUITY'] / df['AMT_INCOME_TOTAL']\n",
    "\n",
    "df['DAYS_BIRTH'] = df['DAYS_BIRTH'] * -1\n",
    "df['DAYS_EMPLOYED'] = df['DAYS_EMPLOYED'] * -1\n",
    "df['DAYS_REGISTRATION'] = df['DAYS_REGISTRATION'] * -1\n",
    "df['DAYS_ID_PUBLISH'] = df['DAYS_ID_PUBLISH'] * -1\n",
    "\n",
    "df['AGE_YEARS'] = df['DAYS_BIRTH'] / 365\n",
    "df['EMPLOYED_YEARS'] = df['DAYS_EMPLOYED'] / 365\n",
    "\n",
    "df['AGE_EMPLOYMENT_INTERACTION'] = df['AGE_YEARS'] * df['EMPLOYED_YEARS']\n",
    "#df['INC_CREDIT_INTERACTION'] = df['AMT_INCOME_TOTAL'] * df['AMT_CREDIT']\n",
    "\n",
    "df.head()\n",
    "\n",
    "non_binary_columns = [col for col in df.columns if df[col].nunique() > 2]\n",
    "\n",
    "scaler = MinMaxScaler()\n",
    "df[non_binary_columns] = scaler.fit_transform(df[non_binary_columns])"
   ]
  },
  {
   "cell_type": "code",
   "execution_count": 11,
   "metadata": {},
   "outputs": [],
   "source": [
    "df.to_csv('cleaned_train_with_features.csv', index=False)"
   ]
  }
 ],
 "metadata": {
  "kernelspec": {
   "display_name": "Python (base)",
   "language": "python",
   "name": "base"
  },
  "language_info": {
   "codemirror_mode": {
    "name": "ipython",
    "version": 3
   },
   "file_extension": ".py",
   "mimetype": "text/x-python",
   "name": "python",
   "nbconvert_exporter": "python",
   "pygments_lexer": "ipython3",
   "version": "3.12.4"
  }
 },
 "nbformat": 4,
 "nbformat_minor": 2
}
